{
 "cells": [
  {
   "cell_type": "markdown",
   "id": "aafa2785",
   "metadata": {},
   "source": [
    "# Extracting Benchmark audio features"
   ]
  },
  {
   "cell_type": "code",
   "execution_count": 49,
   "id": "4b5a6a96",
   "metadata": {},
   "outputs": [],
   "source": [
    "#!pip install soundfile\n",
    "#!pip install numpy\n",
    "#!pip install scipy\n",
    "#!pip install librosa"
   ]
  },
  {
   "cell_type": "code",
   "execution_count": 50,
   "id": "6ea6304d",
   "metadata": {},
   "outputs": [],
   "source": [
    "import soundfile as sf\n",
    "import numpy as np\n",
    "from scipy import signal\n",
    "import librosa.feature as feat\n",
    "import matplotlib.pyplot as plt\n",
    "from obspy import UTCDateTime, read, Trace, Stream\n",
    "from obspy.signal.trigger import classic_sta_lta,plot_trigger\n",
    "from tqdm import tqdm"
   ]
  },
  {
   "cell_type": "code",
   "execution_count": 51,
   "id": "a3a0cc7b",
   "metadata": {},
   "outputs": [
    {
     "name": "stderr",
     "output_type": "stream",
     "text": [
      "203it [00:00, 1788.32it/s]\n"
     ]
    }
   ],
   "source": [
    "filename = \"audio_example.wav\"\n",
    "sig, sr = sf.read(filename)\n",
    "\n",
    "\n",
    "\n",
    "sos = signal.butter(6, [5000, 100000], 'bandpass', fs=sr, output='sos')\n",
    "sig = signal.sosfiltfilt(sos, sig)\n",
    "trace = Trace(sig)\n",
    "trace.stats.sampling_rate = 256000\n",
    "\n",
    "\n",
    "\n",
    "iter = 0\n",
    "T=0.2\n",
    "fech = 256000\n",
    "window_length = 1000/fech\n",
    "step = window_length/2\n",
    "STA_LTA_MAX=0\n",
    "for windowed_tr in tqdm(trace.slide(window_length=window_length, step=step)):\n",
    "\n",
    "    # J'obtiens une nouvelle fenêtre ou je peux calculer mes features\n",
    "\n",
    "\n",
    "    # Je calcule le STA/LTA\n",
    "\n",
    "    STA_LTA = classic_sta_lta(windowed_tr,nsta=210,nlta=500)\n",
    "    if STA_LTA.max() > STA_LTA_MAX:\n",
    "\n",
    "        windowed_tr_computation = windowed_tr.copy()\n",
    "\n",
    "        STA_LTA_MAX = STA_LTA.max()\n",
    "        # Note : ici je ne garde que le STA_LTA max, je peux savoir ou dans ce signal j'ai calculé\n",
    "        # mon STA/LTA mais pour une premiere approche pas besoin. Cela veux dire aussi que les features\n",
    "        # que je vais calculer plus tard ne vont pas être calculé au même temps t.\n",
    "        idx_max = STA_LTA.argmax()\n",
    "        #time_start = windowed_tr_computation.stats.starttime\n",
    "\n",
    "\n",
    "\n",
    "\n",
    "rms = feat.rms(y=windowed_tr_computation.data) \n",
    "sc = feat.spectral_centroid(y=windowed_tr_computation.data, sr=sr)\n",
    "sb = feat.spectral_bandwidth(y=windowed_tr_computation.data,sr=sr)\n",
    "sf = feat.spectral_flatness(y=windowed_tr_computation.data)\n",
    "\n",
    "features = [np.mean(rms), np.std(rms), np.min(rms), np.max(rms),\\\n",
    "            np.mean(sc), np.std(sc), np.min(sc), np.max(sc),\\\n",
    "            np.mean(sb), np.std(sb), np.min(sb), np.max(sb),\\\n",
    "            np.mean(sf), np.std(sf), np.min(sf), np.max(sf)]"
   ]
  },
  {
   "cell_type": "code",
   "execution_count": 52,
   "id": "a398b6a9",
   "metadata": {},
   "outputs": [
    {
     "data": {
      "text/plain": [
       "256000"
      ]
     },
     "execution_count": 52,
     "metadata": {},
     "output_type": "execute_result"
    }
   ],
   "source": [
    "sr"
   ]
  },
  {
   "cell_type": "code",
   "execution_count": 53,
   "id": "5b690e52",
   "metadata": {},
   "outputs": [
    {
     "name": "stdout",
     "output_type": "stream",
     "text": [
      "[0.0007939342, 0.0, 0.0007939342, 0.0007939342, 43921.87282175432, 0.0, 43921.87282175432, 43921.87282175432, 24885.941892045314, 0.0, 24885.941892045314, 24885.941892045314, 0.1373244073723676, 0.0, 0.1373244073723676, 0.1373244073723676]\n"
     ]
    }
   ],
   "source": [
    "print(features)"
   ]
  },
  {
   "cell_type": "code",
   "execution_count": 54,
   "id": "52c18156",
   "metadata": {},
   "outputs": [
    {
     "data": {
      "text/plain": [
       "array([[0.00079393]], dtype=float32)"
      ]
     },
     "execution_count": 54,
     "metadata": {},
     "output_type": "execute_result"
    }
   ],
   "source": [
    "rms"
   ]
  },
  {
   "cell_type": "code",
   "execution_count": 55,
   "id": "6b2ee1eb",
   "metadata": {},
   "outputs": [
    {
     "data": {
      "text/plain": [
       "(51200,)"
      ]
     },
     "execution_count": 55,
     "metadata": {},
     "output_type": "execute_result"
    }
   ],
   "source": [
    "np.shape(sig)"
   ]
  },
  {
   "cell_type": "code",
   "execution_count": null,
   "id": "ef7bc06b",
   "metadata": {},
   "outputs": [],
   "source": []
  }
 ],
 "metadata": {
  "kernelspec": {
   "display_name": "Python 3",
   "language": "python",
   "name": "python3"
  },
  "language_info": {
   "codemirror_mode": {
    "name": "ipython",
    "version": 3
   },
   "file_extension": ".py",
   "mimetype": "text/x-python",
   "name": "python",
   "nbconvert_exporter": "python",
   "pygments_lexer": "ipython3",
   "version": "3.9.16"
  }
 },
 "nbformat": 4,
 "nbformat_minor": 5
}
