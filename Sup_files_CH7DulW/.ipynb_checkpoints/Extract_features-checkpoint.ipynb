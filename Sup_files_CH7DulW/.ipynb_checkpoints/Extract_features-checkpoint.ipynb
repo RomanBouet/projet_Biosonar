{
 "cells": [
  {
   "cell_type": "markdown",
   "id": "aafa2785",
   "metadata": {},
   "source": [
    "# Extracting Benchmark audio features"
   ]
  },
  {
   "cell_type": "code",
   "execution_count": 1,
   "id": "4b5a6a96",
   "metadata": {},
   "outputs": [
    {
     "name": "stdout",
     "output_type": "stream",
     "text": [
      "Requirement already satisfied: soundfile in c:\\users\\roman\\anaconda3\\lib\\site-packages (0.12.1)\n",
      "Requirement already satisfied: cffi>=1.0 in c:\\users\\roman\\anaconda3\\lib\\site-packages (from soundfile) (1.14.5)\n",
      "Requirement already satisfied: pycparser in c:\\users\\roman\\anaconda3\\lib\\site-packages (from cffi>=1.0->soundfile) (2.20)\n",
      "Requirement already satisfied: numpy in c:\\users\\roman\\anaconda3\\lib\\site-packages (1.22.4)\n",
      "Requirement already satisfied: scipy in c:\\users\\roman\\anaconda3\\lib\\site-packages (1.6.2)\n",
      "Requirement already satisfied: numpy<1.23.0,>=1.16.5 in c:\\users\\roman\\anaconda3\\lib\\site-packages (from scipy) (1.22.4)\n",
      "Requirement already satisfied: librosa in c:\\users\\roman\\anaconda3\\lib\\site-packages (0.10.0.post2)\n",
      "Requirement already satisfied: numpy!=1.22.0,!=1.22.1,!=1.22.2,>=1.20.3 in c:\\users\\roman\\anaconda3\\lib\\site-packages (from librosa) (1.22.4)\n",
      "Requirement already satisfied: decorator>=4.3.0 in c:\\users\\roman\\anaconda3\\lib\\site-packages (from librosa) (5.0.6)\n",
      "Requirement already satisfied: soundfile>=0.12.1 in c:\\users\\roman\\anaconda3\\lib\\site-packages (from librosa) (0.12.1)\n",
      "Requirement already satisfied: msgpack>=1.0 in c:\\users\\roman\\anaconda3\\lib\\site-packages (from librosa) (1.0.2)\n",
      "Requirement already satisfied: scikit-learn>=0.20.0 in c:\\users\\roman\\anaconda3\\lib\\site-packages (from librosa) (0.24.1)\n",
      "Requirement already satisfied: numba>=0.51.0 in c:\\users\\roman\\anaconda3\\lib\\site-packages (from librosa) (0.53.1)\n",
      "Requirement already satisfied: scipy>=1.2.0 in c:\\users\\roman\\anaconda3\\lib\\site-packages (from librosa) (1.6.2)\n",
      "Requirement already satisfied: pooch<1.7,>=1.0 in c:\\users\\roman\\anaconda3\\lib\\site-packages (from librosa) (1.6.0)\n",
      "Requirement already satisfied: soxr>=0.3.2 in c:\\users\\roman\\anaconda3\\lib\\site-packages (from librosa) (0.3.4)\n",
      "Requirement already satisfied: typing-extensions>=4.1.1 in c:\\users\\roman\\anaconda3\\lib\\site-packages (from librosa) (4.5.0)\n",
      "Requirement already satisfied: joblib>=0.14 in c:\\users\\roman\\anaconda3\\lib\\site-packages (from librosa) (1.0.1)\n",
      "Requirement already satisfied: lazy-loader>=0.1 in c:\\users\\roman\\anaconda3\\lib\\site-packages (from librosa) (0.1)\n",
      "Requirement already satisfied: audioread>=2.1.9 in c:\\users\\roman\\anaconda3\\lib\\site-packages (from librosa) (3.0.0)\n",
      "Requirement already satisfied: llvmlite<0.37,>=0.36.0rc1 in c:\\users\\roman\\anaconda3\\lib\\site-packages (from numba>=0.51.0->librosa) (0.36.0)\n",
      "Requirement already satisfied: setuptools in c:\\users\\roman\\anaconda3\\lib\\site-packages (from numba>=0.51.0->librosa) (52.0.0.post20210125)\n",
      "Requirement already satisfied: appdirs>=1.3.0 in c:\\users\\roman\\anaconda3\\lib\\site-packages (from pooch<1.7,>=1.0->librosa) (1.4.4)\n",
      "Requirement already satisfied: requests>=2.19.0 in c:\\users\\roman\\anaconda3\\lib\\site-packages (from pooch<1.7,>=1.0->librosa) (2.25.1)\n",
      "Requirement already satisfied: packaging>=20.0 in c:\\users\\roman\\anaconda3\\lib\\site-packages (from pooch<1.7,>=1.0->librosa) (20.9)\n",
      "Requirement already satisfied: pyparsing>=2.0.2 in c:\\users\\roman\\anaconda3\\lib\\site-packages (from packaging>=20.0->pooch<1.7,>=1.0->librosa) (2.4.7)\n",
      "Requirement already satisfied: certifi>=2017.4.17 in c:\\users\\roman\\anaconda3\\lib\\site-packages (from requests>=2.19.0->pooch<1.7,>=1.0->librosa) (2020.12.5)\n",
      "Requirement already satisfied: urllib3<1.27,>=1.21.1 in c:\\users\\roman\\anaconda3\\lib\\site-packages (from requests>=2.19.0->pooch<1.7,>=1.0->librosa) (1.26.4)\n",
      "Requirement already satisfied: idna<3,>=2.5 in c:\\users\\roman\\anaconda3\\lib\\site-packages (from requests>=2.19.0->pooch<1.7,>=1.0->librosa) (2.10)\n",
      "Requirement already satisfied: chardet<5,>=3.0.2 in c:\\users\\roman\\anaconda3\\lib\\site-packages (from requests>=2.19.0->pooch<1.7,>=1.0->librosa) (4.0.0)\n",
      "Requirement already satisfied: threadpoolctl>=2.0.0 in c:\\users\\roman\\anaconda3\\lib\\site-packages (from scikit-learn>=0.20.0->librosa) (2.1.0)\n",
      "Requirement already satisfied: cffi>=1.0 in c:\\users\\roman\\anaconda3\\lib\\site-packages (from soundfile>=0.12.1->librosa) (1.14.5)\n",
      "Requirement already satisfied: pycparser in c:\\users\\roman\\anaconda3\\lib\\site-packages (from cffi>=1.0->soundfile>=0.12.1->librosa) (2.20)\n"
     ]
    }
   ],
   "source": [
    "!pip install soundfile\n",
    "!pip install numpy\n",
    "!pip install scipy\n",
    "!pip install librosa"
   ]
  },
  {
   "cell_type": "code",
   "execution_count": 2,
   "id": "6ea6304d",
   "metadata": {},
   "outputs": [],
   "source": [
    "import soundfile as sf\n",
    "import numpy as np\n",
    "from scipy import signal\n",
    "import librosa.feature as feat"
   ]
  },
  {
   "cell_type": "code",
   "execution_count": null,
   "id": "a3a0cc7b",
   "metadata": {},
   "outputs": [],
   "source": [
    "filename = \"audio_example.wav\"\n",
    "sig, sr = sf.read(filename)\n",
    "\n",
    "sos = signal.butter(6, [5000, 100000], 'bandpass', fs=sr, output='sos')\n",
    "sig = signal.sosfiltfilt(sos, sig)\n",
    "rms = feat.rms(y=sig) \n",
    "sc = feat.spectral_centroid(y=sig, sr=sr)\n",
    "sb = feat.spectral_bandwidth(y=sig,sr=sr)\n",
    "sf = feat.spectral_flatness(y=sig)\n",
    "\n",
    "features = [np.mean(rms), np.std(rms), np.min(rms), np.max(rms),\\\n",
    "            np.mean(sc), np.std(sc), np.min(sc), np.max(sc),\\\n",
    "            np.mean(sb), np.std(sb), np.min(sb), np.max(sb),\\\n",
    "            np.mean(sf), np.std(sf), np.min(sf), np.max(sf)]"
   ]
  },
  {
   "cell_type": "code",
   "execution_count": null,
   "id": "5b690e52",
   "metadata": {},
   "outputs": [],
   "source": [
    "print(features)"
   ]
  },
  {
   "cell_type": "code",
   "execution_count": null,
   "id": "2d62eb3d",
   "metadata": {},
   "outputs": [],
   "source": []
  }
 ],
 "metadata": {
  "kernelspec": {
   "display_name": "Python 3",
   "language": "python",
   "name": "python3"
  },
  "language_info": {
   "codemirror_mode": {
    "name": "ipython",
    "version": 3
   },
   "file_extension": ".py",
   "mimetype": "text/x-python",
   "name": "python",
   "nbconvert_exporter": "python",
   "pygments_lexer": "ipython3",
   "version": "3.8.8"
  }
 },
 "nbformat": 4,
 "nbformat_minor": 5
}
