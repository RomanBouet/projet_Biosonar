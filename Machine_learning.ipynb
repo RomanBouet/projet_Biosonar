{
 "cells": [
  {
   "cell_type": "code",
   "execution_count": 27,
   "metadata": {},
   "outputs": [],
   "source": [
    "import numpy as np\n",
    "import matplotlib.pyplot as plt\n",
    "import pandas as pd\n",
    "from sklearn.model_selection import train_test_split\n",
    "from sklearn.preprocessing import normalize\n",
    "from tqdm import tqdm\n",
    "from sklearn.metrics import accuracy_score\n",
    "from sklearn.metrics import roc_auc_score"
   ]
  },
  {
   "attachments": {},
   "cell_type": "markdown",
   "metadata": {},
   "source": [
    "### Chargement des données"
   ]
  },
  {
   "cell_type": "code",
   "execution_count": 28,
   "metadata": {},
   "outputs": [],
   "source": [
    "Data = pd.read_csv('D:\\Projet\\Y_train_ofTdMHi.csv',header=0)\n",
    "y = Data['pos_label'].to_numpy()\n",
    "X = np.load('data.npy')\n",
    "X = np.delete(X, (0), axis=0)\n",
    "y = np.reshape(y,(23168 ,1))"
   ]
  },
  {
   "attachments": {},
   "cell_type": "markdown",
   "metadata": {},
   "source": [
    "### Fabrication des données d'entrainement et de test"
   ]
  },
  {
   "cell_type": "code",
   "execution_count": 29,
   "metadata": {},
   "outputs": [],
   "source": [
    "X_train, X_test, y_train, y_test = train_test_split(X, y, test_size=0.33)"
   ]
  },
  {
   "cell_type": "code",
   "execution_count": 30,
   "metadata": {},
   "outputs": [],
   "source": [
    "def initialisation(X):\n",
    "    W = np.random.randn(X.shape[1],1)\n",
    "    b = np.random.randn(1)\n",
    "    return (W,b)"
   ]
  },
  {
   "cell_type": "code",
   "execution_count": 31,
   "metadata": {},
   "outputs": [],
   "source": [
    "def model(X, W, b):\n",
    "    Z = X.dot(W) + b\n",
    "    A = 1/(1 + np.exp(-Z))\n",
    "    return A"
   ]
  },
  {
   "cell_type": "code",
   "execution_count": 32,
   "metadata": {},
   "outputs": [],
   "source": [
    "def log_loss(A, y):\n",
    "    epsilon = 1e-15\n",
    "    return 1/len(y) * np.sum(-y * np.log(A + epsilon) - (1 - y) * np.log(1 - A + epsilon))"
   ]
  },
  {
   "cell_type": "code",
   "execution_count": 33,
   "metadata": {},
   "outputs": [],
   "source": [
    "def gradients(A, X, y):\n",
    "    dW = 1 / len(y) * np.dot(X.T, A - y)\n",
    "\n",
    "    db = 1 / len(y) * np.sum(A - y)\n",
    "    return(dW, db)"
   ]
  },
  {
   "cell_type": "code",
   "execution_count": 34,
   "metadata": {},
   "outputs": [],
   "source": [
    "def update(dW, db, W, b, learning_rate):\n",
    "    W = W - learning_rate * dW\n",
    "    b = b - learning_rate * db\n",
    "    return (W, b)"
   ]
  },
  {
   "cell_type": "code",
   "execution_count": 35,
   "metadata": {},
   "outputs": [],
   "source": [
    "def artificial_neuron(X_train, y_train, X_test, y_test, learning_rate = 0.1, n_iter = 1000):\n",
    "    #Initialisation W, b\n",
    "    W, b = initialisation(X_train)\n",
    "\n",
    "    train_loss = []\n",
    "    train_acc = []\n",
    "\n",
    "    test_loss = []\n",
    "    test_acc = []\n",
    "    \n",
    "    # Boucle d'apprentissage\n",
    "    for i in tqdm(range(n_iter)):\n",
    "        ##### Train #####\n",
    "        # Activation\n",
    "\n",
    "        A = model(X_train, W, b)\n",
    "        \n",
    "        # Calcul du cout\n",
    "        train_loss.append(log_loss(A, y_train))\n",
    "\n",
    "        # Calcul de l'accuracy\n",
    "        y_pred = predict(X_train, W, b)   \n",
    "        train_acc.append(accuracy_score(y_train, y_pred))\n",
    "\n",
    "        ##### Test #####\n",
    "        A_test = model(X_test, W, b)\n",
    "        test_loss.append(log_loss(A_test, y_test))\n",
    "        y_pred = predict(X_test, W, b)\n",
    "        test_acc.append(accuracy_score(y_test, y_pred))\n",
    "        \n",
    "\n",
    "\n",
    "        # Mise à jour\n",
    "        dW, db = gradients(A, X_train, y_train)\n",
    "        W, b = update(dW, db, W, b, learning_rate)\n",
    "    \n",
    "    plt.figure(figsize=(12,4))\n",
    "    plt.subplot(1, 2, 1)\n",
    "    plt.plot(train_loss, label='train loss')\n",
    "    plt.plot(test_loss, label='test loss')\n",
    "    plt.legend()\n",
    "    plt.subplot(1, 2, 2)\n",
    "    plt.plot(train_acc, label='train acc')\n",
    "    plt.plot(test_acc, label='test acc')\n",
    "    plt.legend()\n",
    "    plt.show()\n",
    "    return (W,b)\n",
    "\n"
   ]
  },
  {
   "cell_type": "code",
   "execution_count": 36,
   "metadata": {},
   "outputs": [],
   "source": [
    "def predict(X, W, b):\n",
    "    A = model(X, W, b)\n",
    "    return A >= 0.5"
   ]
  },
  {
   "cell_type": "code",
   "execution_count": 37,
   "metadata": {},
   "outputs": [],
   "source": [
    "def normalisation_Min_Max(X):\n",
    "    # Boucler sur les colonnes et soustraire le min et le max de chaque colonne\n",
    "    for i in range(X.shape[1]):  # arr.shape[1] donne le nombre de colonnes\n",
    "        col = X[:, i]  # Extraire la i-ème colonne\n",
    "        col_min = np.amin(col)  # Trouver le minimum de la colonne\n",
    "        col_max = np.amax(col)  # Trouver le maximum de la colonne\n",
    "        X[:, i] = col - col_min  # Soustraire le minimum de la colonne de chaque élément\n",
    "        X[:, i] /= (col_max - col_min)  # Diviser par la différence entre le max et le min pour normaliser entre 0 et 1\n",
    "\n",
    "    return X"
   ]
  },
  {
   "attachments": {},
   "cell_type": "markdown",
   "metadata": {},
   "source": [
    "## Calcul du model"
   ]
  },
  {
   "cell_type": "code",
   "execution_count": 38,
   "metadata": {},
   "outputs": [],
   "source": [
    "X_train_norm_Min_Max = normalisation_Min_Max(X_train)\n",
    "X_test_norm_Min_Max = normalisation_Min_Max(X_test)\n",
    "\n",
    "X_train_norm = normalize(X_train, norm='l2')"
   ]
  },
  {
   "cell_type": "code",
   "execution_count": 39,
   "metadata": {},
   "outputs": [
    {
     "name": "stderr",
     "output_type": "stream",
     "text": [
      "100%|██████████| 20000/20000 [01:27<00:00, 227.30it/s]\n"
     ]
    },
    {
     "data": {
      "image/png": "[encoded data removed]",
      "text/plain": [
       "<Figure size 1200x400 with 2 Axes>"
      ]
     },
     "metadata": {},
     "output_type": "display_data"
    }
   ],
   "source": [
    "W, b = artificial_neuron(X_train_norm_Min_Max, y_train, X_test_norm_Min_Max, y_test, learning_rate=0.01, n_iter=20000)"
   ]
  },
  {
   "cell_type": "code",
   "execution_count": 41,
   "metadata": {},
   "outputs": [],
   "source": [
    "A = model(X_test, W, b)"
   ]
  },
  {
   "cell_type": "code",
   "execution_count": 46,
   "metadata": {},
   "outputs": [
    {
     "data": {
      "text/plain": [
       "(7646, 1)"
      ]
     },
     "execution_count": 46,
     "metadata": {},
     "output_type": "execute_result"
    }
   ],
   "source": [
    "A.shape"
   ]
  },
  {
   "cell_type": "code",
   "execution_count": 47,
   "metadata": {},
   "outputs": [
    {
     "data": {
      "text/plain": [
       "(7646, 1)"
      ]
     },
     "execution_count": 47,
     "metadata": {},
     "output_type": "execute_result"
    }
   ],
   "source": [
    "y_test.shape"
   ]
  },
  {
   "cell_type": "code",
   "execution_count": 45,
   "metadata": {},
   "outputs": [
    {
     "data": {
      "text/plain": [
       "0.7744880291784341"
      ]
     },
     "execution_count": 45,
     "metadata": {},
     "output_type": "execute_result"
    }
   ],
   "source": [
    "roc_auc_score(y_test, A)"
   ]
  },
  {
   "cell_type": "code",
   "execution_count": 54,
   "metadata": {},
   "outputs": [],
   "source": [
    "from os import listdir\n",
    "from os.path import isfile, join\n",
    "\n",
    "monRepertoire = 'D:\\Projet\\X_test_CAWNWce\\X_test'\n",
    "fichiers = [f for f in listdir(monRepertoire) if isfile(join(monRepertoire, f))]\n",
    "del fichiers[1]\n",
    "del fichiers[0]"
   ]
  },
  {
   "cell_type": "code",
   "execution_count": 56,
   "metadata": {},
   "outputs": [],
   "source": [
    "fichiers\n",
    "import csv\n",
    "with open('Y_test.csv', mode='w', newline='') as fichier_csv:\n",
    "    # Créer un objet csv.writer qui écrira dans le fichier_csv\n",
    "    writer = csv.writer(fichier_csv)\n",
    "    \n",
    "    # Ajouter l'en-tête à la première ligne du fichier\n",
    "    writer.writerow(['id'])\n",
    "    \n",
    "    # Écrire chaque élément de la liste dans une ligne distincte du fichier\n",
    "    for element in fichiers:\n",
    "        writer.writerow([element])"
   ]
  },
  {
   "cell_type": "code",
   "execution_count": 59,
   "metadata": {},
   "outputs": [
    {
     "data": {
      "text/plain": [
       "(950,)"
      ]
     },
     "execution_count": 59,
     "metadata": {},
     "output_type": "execute_result"
    }
   ],
   "source": [
    "np.shape(fichiers)"
   ]
  },
  {
   "cell_type": "code",
   "execution_count": null,
   "metadata": {},
   "outputs": [],
   "source": []
  }
 ],
 "metadata": {
  "kernelspec": {
   "display_name": "Python 3",
   "language": "python",
   "name": "python3"
  },
  "language_info": {
   "codemirror_mode": {
    "name": "ipython",
    "version": 3
   },
   "file_extension": ".py",
   "mimetype": "text/x-python",
   "name": "python",
   "nbconvert_exporter": "python",
   "pygments_lexer": "ipython3",
   "version": "3.9.16"
  },
  "orig_nbformat": 4
 },
 "nbformat": 4,
 "nbformat_minor": 2
}
